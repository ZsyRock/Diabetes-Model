{
 "cells": [
  {
   "cell_type": "code",
   "execution_count": 63,
   "id": "dabea2be",
   "metadata": {},
   "outputs": [],
   "source": [
    "# The above code block can be placed at the beginning of the .py file to prevent unnecessary warnings from appearing during operation.\n",
    "from warnings import simplefilter\n",
    "simplefilter(action='ignore', category=FutureWarning)\n",
    "# However, it should be noted that ignoring warnings may lead to incompatibility issues in future versions, so in actual development, it is best to take appropriate actions based on the content of the warning rather than ignoring it directly."
   ]
  },
  {
   "cell_type": "code",
   "execution_count": 64,
   "id": "2683f340",
   "metadata": {},
   "outputs": [
    {
     "name": "stdout",
     "output_type": "stream",
     "text": [
      "Index(['Pregnancies', 'Glucose', 'BloodPressure', 'SkinThickness', 'Insulin',\n",
      "       'BMI', 'DiabetesPedigreeFunction', 'Age', 'Outcome'],\n",
      "      dtype='object')\n"
     ]
    }
   ],
   "source": [
    "# Import the data set and output the class name of each column of the data set, as follows:\n",
    "import pandas as pd\n",
    "diabetes = pd.read_csv(\"diabetes.csv\")\n",
    "print(diabetes.columns)  # check the column names"
   ]
  },
  {
   "cell_type": "code",
   "execution_count": 65,
   "id": "389e1bde",
   "metadata": {},
   "outputs": [
    {
     "data": {
      "text/html": [
       "<div>\n",
       "<style scoped>\n",
       "    .dataframe tbody tr th:only-of-type {\n",
       "        vertical-align: middle;\n",
       "    }\n",
       "\n",
       "    .dataframe tbody tr th {\n",
       "        vertical-align: top;\n",
       "    }\n",
       "\n",
       "    .dataframe thead th {\n",
       "        text-align: right;\n",
       "    }\n",
       "</style>\n",
       "<table border=\"1\" class=\"dataframe\">\n",
       "  <thead>\n",
       "    <tr style=\"text-align: right;\">\n",
       "      <th></th>\n",
       "      <th>Pregnancies</th>\n",
       "      <th>Glucose</th>\n",
       "      <th>BloodPressure</th>\n",
       "      <th>SkinThickness</th>\n",
       "      <th>Insulin</th>\n",
       "      <th>BMI</th>\n",
       "      <th>DiabetesPedigreeFunction</th>\n",
       "      <th>Age</th>\n",
       "      <th>Outcome</th>\n",
       "    </tr>\n",
       "  </thead>\n",
       "  <tbody>\n",
       "    <tr>\n",
       "      <th>0</th>\n",
       "      <td>6</td>\n",
       "      <td>148</td>\n",
       "      <td>72.0</td>\n",
       "      <td>35.000000</td>\n",
       "      <td>100.335821</td>\n",
       "      <td>33.6</td>\n",
       "      <td>0.627</td>\n",
       "      <td>50</td>\n",
       "      <td>1</td>\n",
       "    </tr>\n",
       "    <tr>\n",
       "      <th>1</th>\n",
       "      <td>1</td>\n",
       "      <td>85</td>\n",
       "      <td>66.0</td>\n",
       "      <td>29.000000</td>\n",
       "      <td>68.792000</td>\n",
       "      <td>26.6</td>\n",
       "      <td>0.351</td>\n",
       "      <td>31</td>\n",
       "      <td>0</td>\n",
       "    </tr>\n",
       "    <tr>\n",
       "      <th>2</th>\n",
       "      <td>8</td>\n",
       "      <td>183</td>\n",
       "      <td>64.0</td>\n",
       "      <td>22.164179</td>\n",
       "      <td>100.335821</td>\n",
       "      <td>23.3</td>\n",
       "      <td>0.672</td>\n",
       "      <td>32</td>\n",
       "      <td>1</td>\n",
       "    </tr>\n",
       "    <tr>\n",
       "      <th>3</th>\n",
       "      <td>1</td>\n",
       "      <td>89</td>\n",
       "      <td>66.0</td>\n",
       "      <td>23.000000</td>\n",
       "      <td>94.000000</td>\n",
       "      <td>28.1</td>\n",
       "      <td>0.167</td>\n",
       "      <td>21</td>\n",
       "      <td>0</td>\n",
       "    </tr>\n",
       "    <tr>\n",
       "      <th>4</th>\n",
       "      <td>0</td>\n",
       "      <td>137</td>\n",
       "      <td>40.0</td>\n",
       "      <td>35.000000</td>\n",
       "      <td>168.000000</td>\n",
       "      <td>43.1</td>\n",
       "      <td>2.288</td>\n",
       "      <td>33</td>\n",
       "      <td>1</td>\n",
       "    </tr>\n",
       "  </tbody>\n",
       "</table>\n",
       "</div>"
      ],
      "text/plain": [
       "   Pregnancies  Glucose  BloodPressure  SkinThickness     Insulin   BMI  \\\n",
       "0            6      148           72.0      35.000000  100.335821  33.6   \n",
       "1            1       85           66.0      29.000000   68.792000  26.6   \n",
       "2            8      183           64.0      22.164179  100.335821  23.3   \n",
       "3            1       89           66.0      23.000000   94.000000  28.1   \n",
       "4            0      137           40.0      35.000000  168.000000  43.1   \n",
       "\n",
       "   DiabetesPedigreeFunction  Age  Outcome  \n",
       "0                     0.627   50        1  \n",
       "1                     0.351   31        0  \n",
       "2                     0.672   32        1  \n",
       "3                     0.167   21        0  \n",
       "4                     2.288   33        1  "
      ]
     },
     "execution_count": 65,
     "metadata": {},
     "output_type": "execute_result"
    }
   ],
   "source": [
    "# I tried deleting all rows containing 0, but this resulted in a significant reduction in data volume. So instead of doing that I used the method of replacing the 0 values with the average\n",
    "# diabetes = diabetes[(diabetes['BloodPressure'] != 0) & (diabetes['SkinThickness'] != 0) & (diabetes['Insulin'] != 0)]\n",
    "# Replace zero values in BloodPressure, SkinThickness, and Insulin with the average value of the corresponding feature\n",
    "# diabetes['BloodPressure'].replace(0, diabetes['BloodPressure'].mean(), inplace=True)\n",
    "# diabetes['SkinThickness'].replace(0, diabetes['SkinThickness'].mean(), inplace=True)\n",
    "# diabetes['Insulin'].replace(0, diabetes['Insulin'].mean(), inplace=True)\n",
    "\n",
    "# Calculate the average of a specific feature based on the Outcome category\n",
    "mean_values = diabetes.groupby('Outcome').mean()[['BloodPressure', 'SkinThickness', 'Insulin']]\n",
    "\n",
    "# replace zero value\n",
    "for feature in ['BloodPressure', 'SkinThickness', 'Insulin']:\n",
    "    for outcome in [0, 1]:\n",
    "        subset = diabetes[diabetes['Outcome'] == outcome]\n",
    "        zero_indices = subset[subset[feature] == 0].index\n",
    "        diabetes.loc[zero_indices, feature] = mean_values.loc[outcome, feature]\n",
    "\n",
    "diabetes.head()     # default n = 5，show five rows\n",
    "# the results 0 means not having diabetes,1 means having diabetes"
   ]
  },
  {
   "cell_type": "code",
   "execution_count": 66,
   "id": "edb00305",
   "metadata": {},
   "outputs": [
    {
     "name": "stdout",
     "output_type": "stream",
     "text": [
      "dimension of diabetes data: (768, 9)\n",
      "Outcome\n",
      "0    500\n",
      "1    268\n",
      "dtype: int64\n"
     ]
    }
   ],
   "source": [
    "# get the cows and cols of diabetes\n",
    "print(\"dimension of diabetes data: {}\".format(diabetes.shape)) \n",
    "# group the \"Outcome\" data to get the number of each group\n",
    "print(diabetes.groupby('Outcome').size())\n",
    "# The code outputs two results: the number of rows and columns of the csv file; the statistics of 0 and 1 in the \"Outcome\" column."
   ]
  },
  {
   "cell_type": "code",
   "execution_count": 67,
   "id": "c65f5623",
   "metadata": {},
   "outputs": [
    {
     "data": {
      "image/png": "[encoded data removed]",
      "text/plain": [
       "<Figure size 600x400 with 1 Axes>"
      ]
     },
     "metadata": {},
     "output_type": "display_data"
    }
   ],
   "source": [
    "import seaborn as sns\n",
    "import matplotlib.pyplot as plt\n",
    "\n",
    "# This line of code sets Seaborn's drawing style to white grid, making the graphics look clearer.\n",
    "sns.set(style=\"whitegrid\")\n",
    "\n",
    "# Draw a bar chart\n",
    "plt.figure(figsize=(6, 4))  # Set graphic size\n",
    "sns.countplot(x='Outcome', data=diabetes, palette='pastel')  # Draw a bar chart\n",
    "plt.title('Distribution of Outcome in Diabetes Dataset')\n",
    "plt.xlabel('Outcome')\n",
    "plt.ylabel('Count')\n",
    "\n",
    "# display graphics\n",
    "plt.show()"
   ]
  },
  {
   "cell_type": "code",
   "execution_count": 68,
   "id": "63f5385d",
   "metadata": {},
   "outputs": [
    {
     "name": "stdout",
     "output_type": "stream",
     "text": [
      "<class 'pandas.core.frame.DataFrame'>\n",
      "RangeIndex: 768 entries, 0 to 767\n",
      "Data columns (total 9 columns):\n",
      " #   Column                    Non-Null Count  Dtype  \n",
      "---  ------                    --------------  -----  \n",
      " 0   Pregnancies               768 non-null    int64  \n",
      " 1   Glucose                   768 non-null    int64  \n",
      " 2   BloodPressure             768 non-null    float64\n",
      " 3   SkinThickness             768 non-null    float64\n",
      " 4   Insulin                   768 non-null    float64\n",
      " 5   BMI                       768 non-null    float64\n",
      " 6   DiabetesPedigreeFunction  768 non-null    float64\n",
      " 7   Age                       768 non-null    int64  \n",
      " 8   Outcome                   768 non-null    int64  \n",
      "dtypes: float64(5), int64(4)\n",
      "memory usage: 54.1 KB\n"
     ]
    }
   ],
   "source": [
    "# Separate the data set and randomly divide it into training subsets and test subsets\n",
    "from sklearn.model_selection import train_test_split\n",
    "diabetes.info()     # get the diatebes' info\n",
    "x_train, x_test, y_train, y_test = train_test_split(\n",
    "    diabetes.loc[:, diabetes.columns != 'Outcome'],\n",
    "    diabetes['Outcome'], stratify=diabetes['Outcome'],\n",
    "    random_state=66)"
   ]
  },
  {
   "cell_type": "code",
   "execution_count": 69,
   "id": "9ec7a259",
   "metadata": {},
   "outputs": [
    {
     "data": {
      "image/png": "[encoded data removed]",
      "text/plain": [
       "<Figure size 1000x600 with 1 Axes>"
      ]
     },
     "metadata": {},
     "output_type": "display_data"
    }
   ],
   "source": [
    "from sklearn.neighbors import KNeighborsClassifier\n",
    "\n",
    "training_accuracy = []\n",
    "test_accuracy = []\n",
    "# try n_neighbors from 1 to 10\n",
    "neighbors_settings = range(1, 11)\n",
    "# In the loop, for each number of neighbors, a K-nearest neighbor classifier is created, the model is fit to the training data, and then the accuracy on the training and test sets is calculated and recorded.\n",
    "for n_neighbors in neighbors_settings:\n",
    "    knn = KNeighborsClassifier(n_neighbors=n_neighbors)  # build the models\n",
    "    knn.fit(x_train, y_train)  # use x_train as train data and y_train as target value\n",
    "    training_accuracy.append(knn.score(x_train, y_train))  # record training set accuracy\n",
    "    test_accuracy.append(knn.score(x_test, y_test))  # record test set accuracy\n",
    "\n",
    "'''\n",
    "The relationship between the training set and the test set on the model prediction\n",
    "accuracy (Y-axis) and the number of nearest neighbors (X-axis) is demonstrated\n",
    "'''\n",
    "import seaborn as sns\n",
    "import matplotlib.pyplot as plt\n",
    "# Create a graph with seaborn style\n",
    "sns.set(style=\"whitegrid\")\n",
    "\n",
    "plt.figure(figsize=(10, 6))  # Set graphic size\n",
    "\n",
    "# Plot training set accuracy and test set accuracy curves\n",
    "sns.lineplot(x=neighbors_settings, y=training_accuracy, label=\"Training Accuracy\", marker='o')\n",
    "sns.lineplot(x=neighbors_settings, y=test_accuracy, label=\"Test Accuracy\", marker='o')\n",
    "\n",
    "# Add figure title and axis labels\n",
    "plt.title(\"KNN Model Accuracy for Different Number of Neighbors\")\n",
    "plt.xlabel(\"Number of Neighbors\")\n",
    "plt.ylabel(\"Accuracy\")\n",
    "\n",
    "# Show legend\n",
    "plt.legend()\n",
    "\n",
    "# display graphics\n",
    "plt.show()"
   ]
  },
  {
   "cell_type": "code",
   "execution_count": 70,
   "id": "eef92014",
   "metadata": {},
   "outputs": [
    {
     "name": "stdout",
     "output_type": "stream",
     "text": [
      "Accuracy of K-NN classifier on training set: 0.87\n",
      "Accuracy of K-NN classifier on test set: 0.85\n"
     ]
    }
   ],
   "source": [
    "# In order to achieve the highest accuracy for both the training set and the test set, we select 9 neighboring points, that is, n_neghbors=9.\n",
    "# select n_neighbors = 8\n",
    "knn = KNeighborsClassifier(n_neighbors=8)\n",
    "knn.fit(x_train, y_train)\n",
    "# Based on the previous step, we chose n_neighbors=9 to simulate the KNN algorithm and output the accuracy of KNN classification training\n",
    "print(\"Accuracy of K-NN classifier on training set: {:.2f}\".format(knn.score(x_train, y_train)))\n",
    "print(\"Accuracy of K-NN classifier on test set: {:.2f}\".format(knn.score(x_test, y_test)))"
   ]
  },
  {
   "cell_type": "code",
   "execution_count": 71,
   "id": "a703d215",
   "metadata": {},
   "outputs": [
    {
     "name": "stdout",
     "output_type": "stream",
     "text": [
      "Best Parameters:  {'n_neighbors': 9}\n",
      "Accuracy: 0.8116883116883117\n",
      "Classification Report:\n",
      "              precision    recall  f1-score   support\n",
      "\n",
      "           0       0.84      0.88      0.86       100\n",
      "           1       0.76      0.69      0.72        54\n",
      "\n",
      "    accuracy                           0.81       154\n",
      "   macro avg       0.80      0.78      0.79       154\n",
      "weighted avg       0.81      0.81      0.81       154\n",
      "\n",
      "Accuracy: 0.8311688311688312\n",
      "Classification Report:\n",
      "              precision    recall  f1-score   support\n",
      "\n",
      "           0       0.86      0.88      0.87       100\n",
      "           1       0.77      0.74      0.75        54\n",
      "\n",
      "    accuracy                           0.83       154\n",
      "   macro avg       0.82      0.81      0.81       154\n",
      "weighted avg       0.83      0.83      0.83       154\n",
      "\n",
      "Accuracy: 0.9025974025974026\n",
      "Classification Report:\n",
      "              precision    recall  f1-score   support\n",
      "\n",
      "           0       0.91      0.94      0.93       100\n",
      "           1       0.88      0.83      0.86        54\n",
      "\n",
      "    accuracy                           0.90       154\n",
      "   macro avg       0.90      0.89      0.89       154\n",
      "weighted avg       0.90      0.90      0.90       154\n",
      "\n",
      "Accuracy: 0.8823529411764706\n",
      "Classification Report:\n",
      "              precision    recall  f1-score   support\n",
      "\n",
      "           0       0.89      0.93      0.91       100\n",
      "           1       0.86      0.79      0.82        53\n",
      "\n",
      "    accuracy                           0.88       153\n",
      "   macro avg       0.88      0.86      0.87       153\n",
      "weighted avg       0.88      0.88      0.88       153\n",
      "\n",
      "Accuracy: 0.8235294117647058\n",
      "Classification Report:\n",
      "              precision    recall  f1-score   support\n",
      "\n",
      "           0       0.86      0.87      0.87       100\n",
      "           1       0.75      0.74      0.74        53\n",
      "\n",
      "    accuracy                           0.82       153\n",
      "   macro avg       0.81      0.80      0.80       153\n",
      "weighted avg       0.82      0.82      0.82       153\n",
      "\n"
     ]
    }
   ],
   "source": [
    "# Now try to use cross-validation method to split the training set and test set\n",
    "\n",
    "from sklearn.neighbors import KNeighborsClassifier\n",
    "from sklearn.metrics import accuracy_score, classification_report\n",
    "from sklearn.model_selection import StratifiedKFold, GridSearchCV\n",
    "import pandas as pd\n",
    "\n",
    "# Read the dataset (replace with your dataset path)\n",
    "diabetes = pd.read_csv('diabetes.csv')\n",
    "\n",
    "# Calculate the average of a specific feature based on the Outcome category\n",
    "mean_values = diabetes.groupby('Outcome').mean()[['BloodPressure', 'SkinThickness', 'Insulin']]\n",
    "\n",
    "# replace zero value\n",
    "for feature in ['BloodPressure', 'SkinThickness', 'Insulin']:\n",
    "    for outcome in [0, 1]:\n",
    "        subset = diabetes[diabetes['Outcome'] == outcome]\n",
    "        zero_indices = subset[subset[feature] == 0].index\n",
    "        diabetes.loc[zero_indices, feature] = mean_values.loc[outcome, feature]\n",
    "# Define the range of the number of neighbors for the KNN model\n",
    "param_grid = {'n_neighbors': range(1, 12)}\n",
    "\n",
    "# Create KNN model\n",
    "knn = KNeighborsClassifier()\n",
    "\n",
    "# Create a stratified cross-validation object\n",
    "kf = StratifiedKFold(n_splits=5, shuffle=True, random_state=66)\n",
    "\n",
    "# Hyperparameter tuning using grid search\n",
    "grid_search = GridSearchCV(knn, param_grid, cv=kf)\n",
    "grid_search.fit(diabetes.loc[:, diabetes.columns != 'Outcome'], diabetes['Outcome'])\n",
    "\n",
    "# Output the best hyperparameters\n",
    "print(\"Best Parameters: \", grid_search.best_params_)\n",
    "\n",
    "# Using KNN in a loop for model training and evaluation\n",
    "for train_index, test_index in kf.split(diabetes.loc[:, diabetes.columns != 'Outcome'], diabetes['Outcome']):\n",
    "    x_train, x_test = diabetes.loc[:, diabetes.columns != 'Outcome'].iloc[train_index], diabetes.loc[:, diabetes.columns != 'Outcome'].iloc[test_index]\n",
    "    y_train, y_test = diabetes['Outcome'].iloc[train_index], diabetes['Outcome'].iloc[test_index]\n",
    "\n",
    "    # Create KNN model (using optimal hyperparameters)\n",
    "    knn = KNeighborsClassifier(n_neighbors=grid_search.best_params_['n_neighbors'])\n",
    "\n",
    "    # Train the model on the training set\n",
    "    knn.fit(x_train, y_train)\n",
    "\n",
    "    # Make predictions on the test set\n",
    "    y_pred = knn.predict(x_test)\n",
    "\n",
    "    # Evaluate model performance\n",
    "    accuracy = accuracy_score(y_test, y_pred)\n",
    "    report = classification_report(y_test, y_pred)\n",
    "\n",
    "    # Output model performance indicators\n",
    "    print(f'Accuracy: {accuracy}')\n",
    "    print(f'Classification Report:\\n{report}')\n"
   ]
  },
  {
   "cell_type": "code",
   "execution_count": null,
   "id": "bdb309e8",
   "metadata": {},
   "outputs": [],
   "source": []
  },
  {
   "cell_type": "code",
   "execution_count": null,
   "id": "588500d2",
   "metadata": {},
   "outputs": [],
   "source": []
  },
  {
   "cell_type": "code",
   "execution_count": null,
   "id": "7e205401",
   "metadata": {},
   "outputs": [],
   "source": []
  }
 ],
 "metadata": {
  "kernelspec": {
   "display_name": "Python 3 (ipykernel)",
   "language": "python",
   "name": "python3"
  },
  "language_info": {
   "codemirror_mode": {
    "name": "ipython",
    "version": 3
   },
   "file_extension": ".py",
   "mimetype": "text/x-python",
   "name": "python",
   "nbconvert_exporter": "python",
   "pygments_lexer": "ipython3",
   "version": "3.10.9"
  }
 },
 "nbformat": 4,
 "nbformat_minor": 5
}
